{
  "nbformat": 4,
  "nbformat_minor": 0,
  "metadata": {
    "colab": {
      "provenance": []
    },
    "kernelspec": {
      "name": "python3",
      "display_name": "Python 3"
    },
    "language_info": {
      "name": "python"
    }
  },
  "cells": [
    {
      "cell_type": "code",
      "source": [
        "!pip install requests requests_oauthlib"
      ],
      "metadata": {
        "id": "S63koZdXbqgh"
      },
      "execution_count": null,
      "outputs": []
    },
    {
      "cell_type": "markdown",
      "source": [
        "## Getting the data from twitter"
      ],
      "metadata": {
        "id": "iiSuuYoBwVeJ"
      }
    },
    {
      "cell_type": "code",
      "execution_count": 20,
      "metadata": {
        "id": "wkXG5MRwbb2w"
      },
      "outputs": [],
      "source": [
        "import requests\n",
        "import pandas as pd\n",
        "from requests_oauthlib import OAuth1"
      ]
    },
    {
      "cell_type": "code",
      "source": [
        "API_KEY = \"API_KEY\"\n",
        "API_SECRET_KEY = \"API_SECRET_KEY\"\n",
        "ACCESS_TOKEN = \"ACCESS_TOKEN\"\n",
        "ACCESS_TOKEN_SECRET = \"TOKEN_SECRET\"\n",
        "\n",
        "auth = OAuth1(API_KEY, API_SECRET_KEY, ACCESS_TOKEN, ACCESS_TOKEN_SECRET)"
      ],
      "metadata": {
        "id": "mzVY1xeekcob"
      },
      "execution_count": 22,
      "outputs": []
    },
    {
      "cell_type": "code",
      "source": [
        "def get_follow_details(name):\n",
        "  foll = []\n",
        "  cursor = -1\n",
        "\n",
        "  while len(foll) < 1000:\n",
        "    url = f\"https://api.twitter.com/1.1/followers/list.json?screen_name={name}&count=200&cursor={cursor}\"\n",
        "    response = requests.get(url, auth=auth)\n",
        "\n",
        "    if response.status_code != 200:\n",
        "      raise Exception(f'Error ocurred! Reason:{response.text}')\n",
        "\n",
        "    data = response.json()\n",
        "    foll.extend(data['users'])\n",
        "    cursor = data['next_cursor']\n",
        "\n",
        "    if cursor == 0:\n",
        "      break\n",
        "\n",
        "  return foll\n"
      ],
      "metadata": {
        "id": "jARtVLdbkorH"
      },
      "execution_count": 25,
      "outputs": []
    },
    {
      "cell_type": "code",
      "source": [
        "def helper():\n",
        "  name = 'opensea'\n",
        "  foll = get_follow_details(name)\n",
        "\n",
        "  follow_details = []\n",
        "  for i in foll:\n",
        "    follow_details.append({\n",
        "        \"Screen name\": i[\"screen_name\"],\n",
        "        \"Follower count\": i[\"followers_count\"],\n",
        "        \"Verified\": i[\"verified\"],\n",
        "        \"Location\": i[\"location\"],\n",
        "        \"Description\": i[\"description\"]\n",
        "        })\n",
        "    \n",
        "  df = pd.DataFrame(follow_details)\n",
        "  df.to_csv(\"Follower_data.csv\", index = False)\n",
        "\n",
        "  #print(df.head())"
      ],
      "metadata": {
        "id": "RNikVMK6lqqQ"
      },
      "execution_count": 30,
      "outputs": []
    },
    {
      "cell_type": "code",
      "source": [
        "helper()"
      ],
      "metadata": {
        "id": "Rj6dN8nYocY_"
      },
      "execution_count": null,
      "outputs": []
    },
    {
      "cell_type": "markdown",
      "source": [
        "## Visualising the data"
      ],
      "metadata": {
        "id": "DbeJkyT_wbzC"
      }
    },
    {
      "cell_type": "code",
      "source": [
        "# Some visualisations---------------------\n",
        "\n",
        "import pandas as pd\n",
        "import matplotlib.pyplot as plt\n",
        "import seaborn as sns\n",
        "\n",
        "df = pd.read_csv(\"Follower_data.csv\")\n",
        "\n",
        "print(\"Description: \",df.describe())\n",
        "\n",
        "print(\"\\n\\nMissing values: \",df.isna().sum())\n",
        "\n",
        "verified_counts = df[\"Verified\"].value_counts()\n",
        "print(\"\\n\\nVerified Counts: \",verified_counts)\n",
        "\n",
        "# Follower counts\n",
        "plt.figure(figsize=(10, 6))\n",
        "sns.histplot(data=df, x=\"Follower count\", bins=50, kde=True)\n",
        "plt.title(\"Follower Counts\")\n",
        "plt.show()\n",
        "\n",
        "# Following counts\n",
        "plt.figure(figsize=(10, 6))\n",
        "sns.histplot(data=df, x=\"Following count\", bins=50, kde=True)\n",
        "plt.title(\"Following Counts\")\n",
        "plt.show()\n",
        "\n",
        "# Correlation between follower count and following count\n",
        "plt.figure(figsize=(10, 6))\n",
        "sns.scatterplot(data=df, x=\"Follower count\", y=\"Following count\", hue=\"Verified\")\n",
        "plt.title(\"Follower Count vs Following Count\")\n",
        "plt.show()\n",
        "\n",
        "# Top 10 locations by follower count\n",
        "top_locations = df[\"Location\"].value_counts().nlargest(10)\n",
        "print(top_locations)\n",
        "\n",
        "# Visualize top 10 locations\n",
        "plt.figure(figsize=(10, 6))\n",
        "sns.barplot(x=top_locations.index, y=top_locations.values)\n",
        "plt.title(\"Top 10 Locations of followers:\")\n",
        "plt.xlabel(\"Location\")\n",
        "plt.ylabel(\"Number of Followers\")\n",
        "plt.xticks(rotation=45)\n",
        "plt.show()\n"
      ],
      "metadata": {
        "colab": {
          "base_uri": "https://localhost:8080/",
          "height": 1000
        },
        "id": "EZ7h5i-ZoeQ2",
        "outputId": "7c3dad9e-325b-4594-a337-61a8beb7c067"
      },
      "execution_count": 34,
      "outputs": [
        {
          "output_type": "stream",
          "name": "stdout",
          "text": [
            "Description:         Follower count  Following count\n",
            "count     1000.000000      1000.000000\n",
            "mean       656.971000       448.159000\n",
            "std       3847.151251      2091.792183\n",
            "min          0.000000         1.000000\n",
            "25%          3.000000        25.000000\n",
            "50%         11.000000        66.000000\n",
            "75%         64.250000       235.500000\n",
            "max      61460.000000     44114.000000\n",
            "\n",
            "\n",
            "Missing values:  Screen name          0\n",
            "Follower count       0\n",
            "Verified             0\n",
            "Following count      0\n",
            "Location           680\n",
            "Description        409\n",
            "dtype: int64\n",
            "\n",
            "\n",
            "Verified Counts:  False    999\n",
            "True       1\n",
            "Name: Verified, dtype: int64\n"
          ]
        },
        {
          "output_type": "display_data",
          "data": {
            "text/plain": [
              "<Figure size 720x432 with 1 Axes>"
            ],
            "image/png": "[encoded data removed]"
          },
          "metadata": {
            "needs_background": "light"
          }
        },
        {
          "output_type": "display_data",
          "data": {
            "text/plain": [
              "<Figure size 720x432 with 1 Axes>"
            ],
            "image/png": "[encoded data removed]"
          },
          "metadata": {
            "needs_background": "light"
          }
        },
        {
          "output_type": "display_data",
          "data": {
            "text/plain": [
              "<Figure size 720x432 with 1 Axes>"
            ],
            "image/png": "[encoded data removed]"
          },
          "metadata": {
            "needs_background": "light"
          }
        },
        {
          "output_type": "stream",
          "name": "stdout",
          "text": [
            "India              5\n",
            "United States      4\n",
            "Los Angeles, CA    4\n",
            "Metaverse          4\n",
            "Lagos, Nigeria     3\n",
            "USA                3\n",
            "Украина            3\n",
            "İstanbul           3\n",
            "日本                 3\n",
            "Nigeria            3\n",
            "Name: Location, dtype: int64\n"
          ]
        },
        {
          "output_type": "stream",
          "name": "stderr",
          "text": [
            "/usr/local/lib/python3.9/dist-packages/IPython/core/pylabtools.py:128: UserWarning: Glyph 26085 (\\N{CJK UNIFIED IDEOGRAPH-65E5}) missing from current font.\n",
            "  fig.canvas.print_figure(bytes_io, **kw)\n",
            "/usr/local/lib/python3.9/dist-packages/IPython/core/pylabtools.py:128: UserWarning: Glyph 26412 (\\N{CJK UNIFIED IDEOGRAPH-672C}) missing from current font.\n",
            "  fig.canvas.print_figure(bytes_io, **kw)\n"
          ]
        },
        {
          "output_type": "display_data",
          "data": {
            "text/plain": [
              "<Figure size 720x432 with 1 Axes>"
            ],
            "image/png": "[encoded data removed]"
          },
          "metadata": {
            "needs_background": "light"
          }
        }
      ]
    },
    {
      "cell_type": "markdown",
      "source": [
        "## Performing Classification on data to predict verification of user"
      ],
      "metadata": {
        "id": "X_FqrGm4wf_u"
      }
    },
    {
      "cell_type": "code",
      "source": [
        "import numpy as np\n",
        "import re\n",
        "from sklearn.model_selection import train_test_split\n",
        "from sklearn.feature_extraction.text import TfidfVectorizer\n",
        "from sklearn.preprocessing import StandardScaler\n",
        "from sklearn.linear_model import LogisticRegression\n",
        "from sklearn.metrics import classification_report, accuracy_score\n",
        "from sklearn.compose import ColumnTransformer\n",
        "from sklearn.pipeline import Pipeline\n",
        "from imblearn.over_sampling import SMOTE\n",
        "from imblearn.pipeline import Pipeline as ImbPipeline\n",
        "from sklearn.ensemble import RandomForestClassifier"
      ],
      "metadata": {
        "id": "MjsGF6FUv9nQ"
      },
      "execution_count": 44,
      "outputs": []
    },
    {
      "cell_type": "markdown",
      "source": [
        "Feature Engineering"
      ],
      "metadata": {
        "id": "v0m2Dgkyw2Xo"
      }
    },
    {
      "cell_type": "code",
      "source": [
        "# Creating Follower to Following ratio:\n",
        "df['followers_to_following_ratio'] = df['Follower count'] / df['Following count']\n",
        "df['followers_to_following_ratio'].replace(np.inf, -1, inplace=True)\n",
        "\n",
        "# Cleaning text from description column:\n",
        "def clean_text(text):\n",
        "    if isinstance(text, str):\n",
        "        text = text.lower()\n",
        "        text = re.sub(r'[^a-z0-9\\s]', '', text)\n",
        "        text = re.sub(r'\\s+', ' ', text).strip()\n",
        "    else:\n",
        "        text = ''\n",
        "    return text\n",
        "\n",
        "df['Description'] = df['Description'].apply(clean_text)\n",
        "# Mapping Verified Boolean to int(1, 0) values\n",
        "y = df['Verified'].map({False: 0, True: 1})\n",
        "\n",
        "# Splitting into train and test:\n",
        "X = df.drop(\"Verified\", axis=1)\n",
        "y = df[\"Verified\"]\n",
        "\n",
        "X_train, X_test, y_train, y_test = train_test_split(X, y, test_size=0.2, random_state=42)\n"
      ],
      "metadata": {
        "id": "Q58Ykp72woE7"
      },
      "execution_count": 46,
      "outputs": []
    },
    {
      "cell_type": "code",
      "source": [
        "preprocessor = ColumnTransformer(transformers=[\n",
        "    ('tfidf_desc', TfidfVectorizer(), 'Description'),\n",
        "    ('scaler_follower', StandardScaler(), ['Follower count']),\n",
        "    ('scaler_following', StandardScaler(), ['Following count']),\n",
        "    ('scaler_ratio', StandardScaler(), ['followers_to_following_ratio'])\n",
        "], remainder='drop')\n",
        "\n",
        "# Using Random Forest Classifier\n",
        "classifier = Pipeline([\n",
        "    ('preprocessor', preprocessor),\n",
        "    ('clf', RandomForestClassifier(class_weight='balanced', random_state=42))\n",
        "])\n",
        "\n",
        "classifier.fit(X_train, y_train)\n",
        "\n",
        "# Predict on the test set\n",
        "y_pred = classifier.predict(X_test)\n",
        "\n",
        "# Evaluate the classifier\n",
        "print(\"Accuracy:\", accuracy_score(y_test, y_pred))\n",
        "print(classification_report(y_test, y_pred))"
      ],
      "metadata": {
        "colab": {
          "base_uri": "https://localhost:8080/"
        },
        "id": "IGMeyMN6ybCY",
        "outputId": "06827eaa-1ee5-4087-a18e-132708c80df0"
      },
      "execution_count": 47,
      "outputs": [
        {
          "output_type": "stream",
          "name": "stdout",
          "text": [
            "Accuracy: 1.0\n",
            "              precision    recall  f1-score   support\n",
            "\n",
            "       False       1.00      1.00      1.00       200\n",
            "\n",
            "    accuracy                           1.00       200\n",
            "   macro avg       1.00      1.00      1.00       200\n",
            "weighted avg       1.00      1.00      1.00       200\n",
            "\n"
          ]
        }
      ]
    },
    {
      "cell_type": "markdown",
      "source": [
        "Some thoughts on the challenge:\n",
        "1. I think the data set is too small hence the predictions are really good.\n",
        "2. Just using follower count, following count, location and Description is not good enough as samples\n",
        "3. These values dont seem to hold a lot of influence in the predcition of verification.\n",
        "4. To improve, we could try using the tweets of the user and applying Sentiment Analysis on it.\n",
        "5. I tried using SMOTE and imblearn to help with the prediction but data was too small for that.\n",
        "6. If given more time, I could use some better feature engineering methods and play with the hyper parameters"
      ],
      "metadata": {
        "id": "kH-76HAC1yBg"
      }
    }
  ]
}
